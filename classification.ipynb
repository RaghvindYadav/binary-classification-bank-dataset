{
 "cells": [
  {
   "cell_type": "code",
   "execution_count": null,
   "id": "ff7452d4",
   "metadata": {
    "execution": {
     "iopub.execute_input": "2025-08-13T13:47:25.205966Z",
     "iopub.status.busy": "2025-08-13T13:47:25.205590Z",
     "iopub.status.idle": "2025-08-13T13:47:30.133968Z",
     "shell.execute_reply": "2025-08-13T13:47:30.133128Z"
    },
    "papermill": {
     "duration": 4.934432,
     "end_time": "2025-08-13T13:47:30.135559",
     "exception": false,
     "start_time": "2025-08-13T13:47:25.201127",
     "status": "completed"
    },
    "tags": []
   },
   "outputs": [
    {
     "ename": "",
     "evalue": "",
     "output_type": "error",
     "traceback": [
      "\u001b[1;31mRunning cells with 'Python 3.11.6' requires the ipykernel package.\n",
      "\u001b[1;31m<a href='command:jupyter.createPythonEnvAndSelectController'>Create a Python Environment</a> with the required packages.\n",
      "\u001b[1;31mOr install 'ipykernel' using the command: '/usr/local/bin/python3 -m pip install ipykernel -U --user --force-reinstall'"
     ]
    }
   ],
   "source": [
    "import numpy as np # linear algebra\n",
    "import pandas as pd # data processing, CSV file I/O (e.g. pd.read_csv)\n",
    "from xgboost import XGBClassifier\n",
    "from sklearn.model_selection import cross_val_score\n",
    "\n",
    "train = pd.read_csv(\"/train.csv\")\n",
    "test_data = pd.read_csv(\"/test.csv\")\n",
    "\n",
    "# Remove the id column from train and test\n",
    "\n",
    "train.drop(\"id\",axis=1,inplace=True)\n",
    "train.head()"
   ]
  },
  {
   "cell_type": "code",
   "execution_count": 3,
   "id": "62a92811",
   "metadata": {
    "execution": {
     "iopub.execute_input": "2025-08-13T13:47:30.144876Z",
     "iopub.status.busy": "2025-08-13T13:47:30.144605Z",
     "iopub.status.idle": "2025-08-13T13:47:30.342777Z",
     "shell.execute_reply": "2025-08-13T13:47:30.341760Z"
    },
    "papermill": {
     "duration": 0.204382,
     "end_time": "2025-08-13T13:47:30.344189",
     "exception": false,
     "start_time": "2025-08-13T13:47:30.139807",
     "status": "completed"
    },
    "tags": []
   },
   "outputs": [
    {
     "data": {
      "text/html": [
       "<div>\n",
       "<style scoped>\n",
       "    .dataframe tbody tr th:only-of-type {\n",
       "        vertical-align: middle;\n",
       "    }\n",
       "\n",
       "    .dataframe tbody tr th {\n",
       "        vertical-align: top;\n",
       "    }\n",
       "\n",
       "    .dataframe thead th {\n",
       "        text-align: right;\n",
       "    }\n",
       "</style>\n",
       "<table border=\"1\" class=\"dataframe\">\n",
       "  <thead>\n",
       "    <tr style=\"text-align: right;\">\n",
       "      <th></th>\n",
       "      <th>age</th>\n",
       "      <th>balance</th>\n",
       "      <th>day</th>\n",
       "      <th>duration</th>\n",
       "      <th>campaign</th>\n",
       "      <th>pdays</th>\n",
       "      <th>previous</th>\n",
       "      <th>y</th>\n",
       "    </tr>\n",
       "  </thead>\n",
       "  <tbody>\n",
       "    <tr>\n",
       "      <th>count</th>\n",
       "      <td>750000.000000</td>\n",
       "      <td>750000.000000</td>\n",
       "      <td>750000.000000</td>\n",
       "      <td>750000.000000</td>\n",
       "      <td>750000.000000</td>\n",
       "      <td>750000.000000</td>\n",
       "      <td>750000.000000</td>\n",
       "      <td>750000.000000</td>\n",
       "    </tr>\n",
       "    <tr>\n",
       "      <th>mean</th>\n",
       "      <td>40.926395</td>\n",
       "      <td>1204.067397</td>\n",
       "      <td>16.117209</td>\n",
       "      <td>256.229144</td>\n",
       "      <td>2.577008</td>\n",
       "      <td>22.412733</td>\n",
       "      <td>0.298545</td>\n",
       "      <td>0.120651</td>\n",
       "    </tr>\n",
       "    <tr>\n",
       "      <th>std</th>\n",
       "      <td>10.098829</td>\n",
       "      <td>2836.096759</td>\n",
       "      <td>8.250832</td>\n",
       "      <td>272.555662</td>\n",
       "      <td>2.718514</td>\n",
       "      <td>77.319998</td>\n",
       "      <td>1.335926</td>\n",
       "      <td>0.325721</td>\n",
       "    </tr>\n",
       "    <tr>\n",
       "      <th>min</th>\n",
       "      <td>18.000000</td>\n",
       "      <td>-8019.000000</td>\n",
       "      <td>1.000000</td>\n",
       "      <td>1.000000</td>\n",
       "      <td>1.000000</td>\n",
       "      <td>-1.000000</td>\n",
       "      <td>0.000000</td>\n",
       "      <td>0.000000</td>\n",
       "    </tr>\n",
       "    <tr>\n",
       "      <th>25%</th>\n",
       "      <td>33.000000</td>\n",
       "      <td>0.000000</td>\n",
       "      <td>9.000000</td>\n",
       "      <td>91.000000</td>\n",
       "      <td>1.000000</td>\n",
       "      <td>-1.000000</td>\n",
       "      <td>0.000000</td>\n",
       "      <td>0.000000</td>\n",
       "    </tr>\n",
       "    <tr>\n",
       "      <th>50%</th>\n",
       "      <td>39.000000</td>\n",
       "      <td>634.000000</td>\n",
       "      <td>17.000000</td>\n",
       "      <td>133.000000</td>\n",
       "      <td>2.000000</td>\n",
       "      <td>-1.000000</td>\n",
       "      <td>0.000000</td>\n",
       "      <td>0.000000</td>\n",
       "    </tr>\n",
       "    <tr>\n",
       "      <th>75%</th>\n",
       "      <td>48.000000</td>\n",
       "      <td>1390.000000</td>\n",
       "      <td>21.000000</td>\n",
       "      <td>361.000000</td>\n",
       "      <td>3.000000</td>\n",
       "      <td>-1.000000</td>\n",
       "      <td>0.000000</td>\n",
       "      <td>0.000000</td>\n",
       "    </tr>\n",
       "    <tr>\n",
       "      <th>max</th>\n",
       "      <td>95.000000</td>\n",
       "      <td>99717.000000</td>\n",
       "      <td>31.000000</td>\n",
       "      <td>4918.000000</td>\n",
       "      <td>63.000000</td>\n",
       "      <td>871.000000</td>\n",
       "      <td>200.000000</td>\n",
       "      <td>1.000000</td>\n",
       "    </tr>\n",
       "  </tbody>\n",
       "</table>\n",
       "</div>"
      ],
      "text/plain": [
       "                 age        balance            day       duration  \\\n",
       "count  750000.000000  750000.000000  750000.000000  750000.000000   \n",
       "mean       40.926395    1204.067397      16.117209     256.229144   \n",
       "std        10.098829    2836.096759       8.250832     272.555662   \n",
       "min        18.000000   -8019.000000       1.000000       1.000000   \n",
       "25%        33.000000       0.000000       9.000000      91.000000   \n",
       "50%        39.000000     634.000000      17.000000     133.000000   \n",
       "75%        48.000000    1390.000000      21.000000     361.000000   \n",
       "max        95.000000   99717.000000      31.000000    4918.000000   \n",
       "\n",
       "            campaign          pdays       previous              y  \n",
       "count  750000.000000  750000.000000  750000.000000  750000.000000  \n",
       "mean        2.577008      22.412733       0.298545       0.120651  \n",
       "std         2.718514      77.319998       1.335926       0.325721  \n",
       "min         1.000000      -1.000000       0.000000       0.000000  \n",
       "25%         1.000000      -1.000000       0.000000       0.000000  \n",
       "50%         2.000000      -1.000000       0.000000       0.000000  \n",
       "75%         3.000000      -1.000000       0.000000       0.000000  \n",
       "max        63.000000     871.000000     200.000000       1.000000  "
      ]
     },
     "execution_count": 3,
     "metadata": {},
     "output_type": "execute_result"
    }
   ],
   "source": [
    "# Describe training data set.\n",
    "train.describe()"
   ]
  },
  {
   "cell_type": "code",
   "execution_count": 4,
   "id": "b5940fb8",
   "metadata": {
    "execution": {
     "iopub.execute_input": "2025-08-13T13:47:30.354520Z",
     "iopub.status.busy": "2025-08-13T13:47:30.353822Z",
     "iopub.status.idle": "2025-08-13T13:47:30.693158Z",
     "shell.execute_reply": "2025-08-13T13:47:30.692190Z"
    },
    "papermill": {
     "duration": 0.345989,
     "end_time": "2025-08-13T13:47:30.694654",
     "exception": false,
     "start_time": "2025-08-13T13:47:30.348665",
     "status": "completed"
    },
    "tags": []
   },
   "outputs": [
    {
     "data": {
      "text/plain": [
       "age          0\n",
       "job          0\n",
       "marital      0\n",
       "education    0\n",
       "default      0\n",
       "balance      0\n",
       "housing      0\n",
       "loan         0\n",
       "contact      0\n",
       "day          0\n",
       "month        0\n",
       "duration     0\n",
       "campaign     0\n",
       "pdays        0\n",
       "previous     0\n",
       "poutcome     0\n",
       "y            0\n",
       "dtype: int64"
      ]
     },
     "execution_count": 4,
     "metadata": {},
     "output_type": "execute_result"
    }
   ],
   "source": [
    "# Check null values\n",
    "train.isnull().sum()"
   ]
  },
  {
   "cell_type": "markdown",
   "id": "34f66269",
   "metadata": {
    "papermill": {
     "duration": 0.00434,
     "end_time": "2025-08-13T13:47:30.703522",
     "exception": false,
     "start_time": "2025-08-13T13:47:30.699182",
     "status": "completed"
    },
    "tags": []
   },
   "source": [
    "Awesome, no null values for training data."
   ]
  },
  {
   "cell_type": "code",
   "execution_count": 5,
   "id": "aa2d585c",
   "metadata": {
    "execution": {
     "iopub.execute_input": "2025-08-13T13:47:30.713230Z",
     "iopub.status.busy": "2025-08-13T13:47:30.712843Z",
     "iopub.status.idle": "2025-08-13T13:47:30.835529Z",
     "shell.execute_reply": "2025-08-13T13:47:30.834487Z"
    },
    "papermill": {
     "duration": 0.12928,
     "end_time": "2025-08-13T13:47:30.837038",
     "exception": false,
     "start_time": "2025-08-13T13:47:30.707758",
     "status": "completed"
    },
    "tags": []
   },
   "outputs": [
    {
     "data": {
      "text/plain": [
       "id           0\n",
       "age          0\n",
       "job          0\n",
       "marital      0\n",
       "education    0\n",
       "default      0\n",
       "balance      0\n",
       "housing      0\n",
       "loan         0\n",
       "contact      0\n",
       "day          0\n",
       "month        0\n",
       "duration     0\n",
       "campaign     0\n",
       "pdays        0\n",
       "previous     0\n",
       "poutcome     0\n",
       "dtype: int64"
      ]
     },
     "execution_count": 5,
     "metadata": {},
     "output_type": "execute_result"
    }
   ],
   "source": [
    "test_data.isnull().sum()"
   ]
  },
  {
   "cell_type": "markdown",
   "id": "8679ddff",
   "metadata": {
    "papermill": {
     "duration": 0.004114,
     "end_time": "2025-08-13T13:47:30.845612",
     "exception": false,
     "start_time": "2025-08-13T13:47:30.841498",
     "status": "completed"
    },
    "tags": []
   },
   "source": [
    "Awesome, no null values for testing data."
   ]
  },
  {
   "cell_type": "code",
   "execution_count": 6,
   "id": "18eb8fdc",
   "metadata": {
    "execution": {
     "iopub.execute_input": "2025-08-13T13:47:30.855937Z",
     "iopub.status.busy": "2025-08-13T13:47:30.854876Z",
     "iopub.status.idle": "2025-08-13T13:47:31.187879Z",
     "shell.execute_reply": "2025-08-13T13:47:31.186832Z"
    },
    "papermill": {
     "duration": 0.339718,
     "end_time": "2025-08-13T13:47:31.189495",
     "exception": false,
     "start_time": "2025-08-13T13:47:30.849777",
     "status": "completed"
    },
    "tags": []
   },
   "outputs": [
    {
     "name": "stdout",
     "output_type": "stream",
     "text": [
      "job ['technician' 'blue-collar' 'student' 'admin.' 'management' 'entrepreneur'\n",
      " 'self-employed' 'unknown' 'services' 'retired' 'housemaid' 'unemployed']\n",
      "marital ['married' 'single' 'divorced']\n",
      "education ['secondary' 'primary' 'tertiary' 'unknown']\n",
      "default ['no' 'yes']\n",
      "housing ['no' 'yes']\n",
      "loan ['no' 'yes']\n",
      "contact ['cellular' 'unknown' 'telephone']\n",
      "month ['aug' 'jun' 'may' 'feb' 'apr' 'nov' 'jul' 'jan' 'oct' 'mar' 'sep' 'dec']\n",
      "poutcome ['unknown' 'other' 'failure' 'success']\n"
     ]
    }
   ],
   "source": [
    "# Columns names with their unique values.\n",
    "for cname in train.columns:\n",
    "    if train[cname].dtype == \"object\":\n",
    "        print(cname, train[cname].unique())"
   ]
  },
  {
   "cell_type": "markdown",
   "id": "359c3253",
   "metadata": {
    "papermill": {
     "duration": 0.004115,
     "end_time": "2025-08-13T13:47:31.199408",
     "exception": false,
     "start_time": "2025-08-13T13:47:31.195293",
     "status": "completed"
    },
    "tags": []
   },
   "source": [
    "Data is categoried so, We can encode the value using ordinal encoding."
   ]
  },
  {
   "cell_type": "code",
   "execution_count": null,
   "id": "002263f9",
   "metadata": {
    "execution": {
     "iopub.execute_input": "2025-08-13T13:47:31.209242Z",
     "iopub.status.busy": "2025-08-13T13:47:31.208812Z",
     "iopub.status.idle": "2025-08-13T13:47:31.399248Z",
     "shell.execute_reply": "2025-08-13T13:47:31.398395Z"
    },
    "papermill": {
     "duration": 0.197006,
     "end_time": "2025-08-13T13:47:31.400647",
     "exception": false,
     "start_time": "2025-08-13T13:47:31.203641",
     "status": "completed"
    },
    "tags": []
   },
   "outputs": [
    {
     "data": {
      "text/html": [
       "<div>\n",
       "<style scoped>\n",
       "    .dataframe tbody tr th:only-of-type {\n",
       "        vertical-align: middle;\n",
       "    }\n",
       "\n",
       "    .dataframe tbody tr th {\n",
       "        vertical-align: top;\n",
       "    }\n",
       "\n",
       "    .dataframe thead th {\n",
       "        text-align: right;\n",
       "    }\n",
       "</style>\n",
       "<table border=\"1\" class=\"dataframe\">\n",
       "  <thead>\n",
       "    <tr style=\"text-align: right;\">\n",
       "      <th></th>\n",
       "      <th>age</th>\n",
       "      <th>job</th>\n",
       "      <th>marital</th>\n",
       "      <th>education</th>\n",
       "      <th>default</th>\n",
       "      <th>balance</th>\n",
       "      <th>housing</th>\n",
       "      <th>loan</th>\n",
       "      <th>contact</th>\n",
       "      <th>day</th>\n",
       "      <th>month</th>\n",
       "      <th>duration</th>\n",
       "      <th>campaign</th>\n",
       "      <th>pdays</th>\n",
       "      <th>previous</th>\n",
       "      <th>poutcome</th>\n",
       "      <th>y</th>\n",
       "    </tr>\n",
       "  </thead>\n",
       "  <tbody>\n",
       "    <tr>\n",
       "      <th>0</th>\n",
       "      <td>42</td>\n",
       "      <td>technician</td>\n",
       "      <td>married</td>\n",
       "      <td>secondary</td>\n",
       "      <td>0</td>\n",
       "      <td>7</td>\n",
       "      <td>0</td>\n",
       "      <td>0</td>\n",
       "      <td>cellular</td>\n",
       "      <td>25</td>\n",
       "      <td>aug</td>\n",
       "      <td>117</td>\n",
       "      <td>3</td>\n",
       "      <td>-1</td>\n",
       "      <td>0</td>\n",
       "      <td>unknown</td>\n",
       "      <td>0</td>\n",
       "    </tr>\n",
       "    <tr>\n",
       "      <th>1</th>\n",
       "      <td>38</td>\n",
       "      <td>blue-collar</td>\n",
       "      <td>married</td>\n",
       "      <td>secondary</td>\n",
       "      <td>0</td>\n",
       "      <td>514</td>\n",
       "      <td>0</td>\n",
       "      <td>0</td>\n",
       "      <td>unknown</td>\n",
       "      <td>18</td>\n",
       "      <td>jun</td>\n",
       "      <td>185</td>\n",
       "      <td>1</td>\n",
       "      <td>-1</td>\n",
       "      <td>0</td>\n",
       "      <td>unknown</td>\n",
       "      <td>0</td>\n",
       "    </tr>\n",
       "    <tr>\n",
       "      <th>2</th>\n",
       "      <td>36</td>\n",
       "      <td>blue-collar</td>\n",
       "      <td>married</td>\n",
       "      <td>secondary</td>\n",
       "      <td>0</td>\n",
       "      <td>602</td>\n",
       "      <td>1</td>\n",
       "      <td>0</td>\n",
       "      <td>unknown</td>\n",
       "      <td>14</td>\n",
       "      <td>may</td>\n",
       "      <td>111</td>\n",
       "      <td>2</td>\n",
       "      <td>-1</td>\n",
       "      <td>0</td>\n",
       "      <td>unknown</td>\n",
       "      <td>0</td>\n",
       "    </tr>\n",
       "    <tr>\n",
       "      <th>3</th>\n",
       "      <td>27</td>\n",
       "      <td>student</td>\n",
       "      <td>single</td>\n",
       "      <td>secondary</td>\n",
       "      <td>0</td>\n",
       "      <td>34</td>\n",
       "      <td>1</td>\n",
       "      <td>0</td>\n",
       "      <td>unknown</td>\n",
       "      <td>28</td>\n",
       "      <td>may</td>\n",
       "      <td>10</td>\n",
       "      <td>2</td>\n",
       "      <td>-1</td>\n",
       "      <td>0</td>\n",
       "      <td>unknown</td>\n",
       "      <td>0</td>\n",
       "    </tr>\n",
       "    <tr>\n",
       "      <th>4</th>\n",
       "      <td>26</td>\n",
       "      <td>technician</td>\n",
       "      <td>married</td>\n",
       "      <td>secondary</td>\n",
       "      <td>0</td>\n",
       "      <td>889</td>\n",
       "      <td>1</td>\n",
       "      <td>0</td>\n",
       "      <td>cellular</td>\n",
       "      <td>3</td>\n",
       "      <td>feb</td>\n",
       "      <td>902</td>\n",
       "      <td>1</td>\n",
       "      <td>-1</td>\n",
       "      <td>0</td>\n",
       "      <td>unknown</td>\n",
       "      <td>1</td>\n",
       "    </tr>\n",
       "  </tbody>\n",
       "</table>\n",
       "</div>"
      ],
      "text/plain": [
       "   age          job  marital  education  default  balance  housing  loan  \\\n",
       "0   42   technician  married  secondary        0        7        0     0   \n",
       "1   38  blue-collar  married  secondary        0      514        0     0   \n",
       "2   36  blue-collar  married  secondary        0      602        1     0   \n",
       "3   27      student   single  secondary        0       34        1     0   \n",
       "4   26   technician  married  secondary        0      889        1     0   \n",
       "\n",
       "    contact  day month  duration  campaign  pdays  previous poutcome  y  \n",
       "0  cellular   25   aug       117         3     -1         0  unknown  0  \n",
       "1   unknown   18   jun       185         1     -1         0  unknown  0  \n",
       "2   unknown   14   may       111         2     -1         0  unknown  0  \n",
       "3   unknown   28   may        10         2     -1         0  unknown  0  \n",
       "4  cellular    3   feb       902         1     -1         0  unknown  1  "
      ]
     },
     "execution_count": 7,
     "metadata": {},
     "output_type": "execute_result"
    }
   ],
   "source": [
    "# Let make default, housing and loan columns to numeric\n",
    "cat_numeric_cols = ['default','housing','loan']\n",
    "\n",
    "for col in cat_numeric_cols:\n",
    "    train[col]=train[col].map({'yes':1 ,'no':0})\n",
    "\n",
    "for col in cat_numeric_cols:\n",
    "    test_data[col]=test_data[col].map({'yes':1 ,'no':0})\n",
    "\n",
    "\n",
    "train.head()"
   ]
  },
  {
   "cell_type": "code",
   "execution_count": 8,
   "id": "2f3ce2f2",
   "metadata": {
    "execution": {
     "iopub.execute_input": "2025-08-13T13:47:31.411288Z",
     "iopub.status.busy": "2025-08-13T13:47:31.410948Z",
     "iopub.status.idle": "2025-08-13T13:47:31.480111Z",
     "shell.execute_reply": "2025-08-13T13:47:31.479376Z"
    },
    "papermill": {
     "duration": 0.076176,
     "end_time": "2025-08-13T13:47:31.481712",
     "exception": false,
     "start_time": "2025-08-13T13:47:31.405536",
     "status": "completed"
    },
    "tags": []
   },
   "outputs": [],
   "source": [
    "X = train.drop(columns=['y'])\n",
    "y = train['y']"
   ]
  },
  {
   "cell_type": "code",
   "execution_count": null,
   "id": "0ce99b90",
   "metadata": {
    "execution": {
     "iopub.execute_input": "2025-08-13T13:47:31.492144Z",
     "iopub.status.busy": "2025-08-13T13:47:31.491822Z",
     "iopub.status.idle": "2025-08-13T13:47:31.498167Z",
     "shell.execute_reply": "2025-08-13T13:47:31.497080Z"
    },
    "papermill": {
     "duration": 0.013349,
     "end_time": "2025-08-13T13:47:31.499789",
     "exception": false,
     "start_time": "2025-08-13T13:47:31.486440",
     "status": "completed"
    },
    "tags": []
   },
   "outputs": [
    {
     "name": "stdout",
     "output_type": "stream",
     "text": [
      "['job', 'marital', 'education', 'contact', 'month', 'poutcome'] ['age', 'default', 'balance', 'housing', 'loan', 'day', 'duration', 'campaign', 'pdays', 'previous']\n"
     ]
    }
   ],
   "source": [
    "# Select categorical columns with relatively low cardinality (convenient but arbitrary)\n",
    "categorical_cols = [cname for cname in X.columns if\n",
    "                    X[cname].dtype == \"object\"]\n",
    "\n",
    "# Select numerical columns\n",
    "numerical_cols = [cname for cname in X.columns if\n",
    "                X[cname].dtype in ['int64', 'float64']]\n",
    "print(categorical_cols,numerical_cols)"
   ]
  },
  {
   "cell_type": "code",
   "execution_count": 10,
   "id": "993338d9",
   "metadata": {
    "execution": {
     "iopub.execute_input": "2025-08-13T13:47:31.510394Z",
     "iopub.status.busy": "2025-08-13T13:47:31.510072Z",
     "iopub.status.idle": "2025-08-13T13:47:31.754320Z",
     "shell.execute_reply": "2025-08-13T13:47:31.753587Z"
    },
    "papermill": {
     "duration": 0.251315,
     "end_time": "2025-08-13T13:47:31.755946",
     "exception": false,
     "start_time": "2025-08-13T13:47:31.504631",
     "status": "completed"
    },
    "tags": []
   },
   "outputs": [],
   "source": [
    "# Pipeline\n",
    "from sklearn.compose import ColumnTransformer\n",
    "from sklearn.pipeline import Pipeline\n",
    "from sklearn.impute import SimpleImputer\n",
    "from sklearn.preprocessing import OrdinalEncoder,OneHotEncoder\n",
    "\n",
    "# Preprocessing for numerical data\n",
    "numerical_transformer = SimpleImputer(strategy='constant')\n",
    "\n",
    "# Preprocessing for categorical data\n",
    "categorical_transformer = Pipeline(steps=[\n",
    "    ('imputer', SimpleImputer(strategy='most_frequent')),\n",
    "    ('encoder', OneHotEncoder(handle_unknown='ignore', sparse=False)),\n",
    "])\n",
    "\n",
    "# Bundle preprocessing for numerical and categorical data\n",
    "preprocessor = ColumnTransformer(\n",
    "    transformers=[\n",
    "        ('num', numerical_transformer, numerical_cols),\n",
    "        ('cat', categorical_transformer, categorical_cols)\n",
    "    ])"
   ]
  },
  {
   "cell_type": "code",
   "execution_count": 11,
   "id": "f37aeb61",
   "metadata": {
    "execution": {
     "iopub.execute_input": "2025-08-13T13:47:31.766522Z",
     "iopub.status.busy": "2025-08-13T13:47:31.766020Z",
     "iopub.status.idle": "2025-08-13T13:47:32.030285Z",
     "shell.execute_reply": "2025-08-13T13:47:32.029327Z"
    },
    "papermill": {
     "duration": 0.271197,
     "end_time": "2025-08-13T13:47:32.032005",
     "exception": false,
     "start_time": "2025-08-13T13:47:31.760808",
     "status": "completed"
    },
    "tags": []
   },
   "outputs": [],
   "source": [
    "from sklearn.model_selection import train_test_split\n",
    "X_train,X_test,y_train,y_test=train_test_split(X,y,test_size=0.2,random_state=40)"
   ]
  },
  {
   "cell_type": "code",
   "execution_count": 12,
   "id": "933aa3df",
   "metadata": {
    "execution": {
     "iopub.execute_input": "2025-08-13T13:47:32.042843Z",
     "iopub.status.busy": "2025-08-13T13:47:32.042576Z",
     "iopub.status.idle": "2025-08-13T13:47:32.046433Z",
     "shell.execute_reply": "2025-08-13T13:47:32.045705Z"
    },
    "papermill": {
     "duration": 0.010942,
     "end_time": "2025-08-13T13:47:32.047856",
     "exception": false,
     "start_time": "2025-08-13T13:47:32.036914",
     "status": "completed"
    },
    "tags": []
   },
   "outputs": [],
   "source": [
    "# # Define model\n",
    "# model = XGBClassifier(\n",
    "#     objective='binary:logistic',\n",
    "#     eval_metric='auc',\n",
    "#     use_label_encoder=False,\n",
    "#     random_state=40,\n",
    "#     learning_rate=0.05,\n",
    "#     n_estimators=5000,\n",
    "#     max_depth=6,\n",
    "#     subsample=0.7,\n",
    "#     colsample_bytree=0.8,\n",
    "# )"
   ]
  },
  {
   "cell_type": "code",
   "execution_count": 13,
   "id": "0a72402d",
   "metadata": {
    "execution": {
     "iopub.execute_input": "2025-08-13T13:47:32.058645Z",
     "iopub.status.busy": "2025-08-13T13:47:32.058341Z",
     "iopub.status.idle": "2025-08-13T13:47:37.676826Z",
     "shell.execute_reply": "2025-08-13T13:47:37.676078Z"
    },
    "papermill": {
     "duration": 5.62565,
     "end_time": "2025-08-13T13:47:37.678400",
     "exception": false,
     "start_time": "2025-08-13T13:47:32.052750",
     "status": "completed"
    },
    "tags": []
   },
   "outputs": [],
   "source": [
    "from lightgbm import LGBMClassifier\n",
    "model = LGBMClassifier(\n",
    "    objective='binary',\n",
    "    n_estimators=5000,\n",
    "    learning_rate=0.01,\n",
    "    max_depth=16,\n",
    "    num_leaves=512,\n",
    "    min_child_samples=2,\n",
    "    subsample=0.9,\n",
    "    colsample_bytree=0.9,\n",
    "    reg_alpha=0.0,\n",
    "    reg_lambda=0.0,\n",
    "    random_state=42\n",
    ")"
   ]
  },
  {
   "cell_type": "code",
   "execution_count": 14,
   "id": "b7244561",
   "metadata": {
    "execution": {
     "iopub.execute_input": "2025-08-13T13:47:37.689932Z",
     "iopub.status.busy": "2025-08-13T13:47:37.688814Z",
     "iopub.status.idle": "2025-08-13T13:47:37.693581Z",
     "shell.execute_reply": "2025-08-13T13:47:37.692852Z"
    },
    "papermill": {
     "duration": 0.011547,
     "end_time": "2025-08-13T13:47:37.694845",
     "exception": false,
     "start_time": "2025-08-13T13:47:37.683298",
     "status": "completed"
    },
    "tags": []
   },
   "outputs": [],
   "source": [
    "my_pipeline = Pipeline(steps=[('preprocessor', preprocessor), ('model', model)])"
   ]
  },
  {
   "cell_type": "code",
   "execution_count": null,
   "id": "7256c880",
   "metadata": {
    "execution": {
     "iopub.execute_input": "2025-08-13T13:47:37.706140Z",
     "iopub.status.busy": "2025-08-13T13:47:37.705276Z",
     "iopub.status.idle": "2025-08-13T13:52:54.686990Z",
     "shell.execute_reply": "2025-08-13T13:52:54.686023Z"
    },
    "papermill": {
     "duration": 316.993704,
     "end_time": "2025-08-13T13:52:54.693438",
     "exception": false,
     "start_time": "2025-08-13T13:47:37.699734",
     "status": "completed"
    },
    "tags": []
   },
   "outputs": [
    {
     "name": "stderr",
     "output_type": "stream",
     "text": [
      "/usr/local/lib/python3.11/dist-packages/sklearn/preprocessing/_encoders.py:868: FutureWarning: `sparse` was renamed to `sparse_output` in version 1.2 and will be removed in 1.4. `sparse_output` is ignored unless you leave `sparse` to its default value.\n",
      "  warnings.warn(\n"
     ]
    },
    {
     "name": "stdout",
     "output_type": "stream",
     "text": [
      "[LightGBM] [Info] Number of positive: 90488, number of negative: 659512\n",
      "[LightGBM] [Info] Auto-choosing row-wise multi-threading, the overhead of testing was 0.058474 seconds.\n",
      "You can set `force_row_wise=true` to remove the overhead.\n",
      "And if memory is not enough, you can set `force_col_wise=true`.\n",
      "[LightGBM] [Info] Total Bins 1039\n",
      "[LightGBM] [Info] Number of data points in the train set: 750000, number of used features: 48\n",
      "[LightGBM] [Info] [binary:BoostFromScore]: pavg=0.120651 -> initscore=-1.986283\n",
      "[LightGBM] [Info] Start training from score -1.986283\n"
     ]
    },
    {
     "data": {
      "text/html": [
       "<style>#sk-container-id-1 {color: black;background-color: white;}#sk-container-id-1 pre{padding: 0;}#sk-container-id-1 div.sk-toggleable {background-color: white;}#sk-container-id-1 label.sk-toggleable__label {cursor: pointer;display: block;width: 100%;margin-bottom: 0;padding: 0.3em;box-sizing: border-box;text-align: center;}#sk-container-id-1 label.sk-toggleable__label-arrow:before {content: \"▸\";float: left;margin-right: 0.25em;color: #696969;}#sk-container-id-1 label.sk-toggleable__label-arrow:hover:before {color: black;}#sk-container-id-1 div.sk-estimator:hover label.sk-toggleable__label-arrow:before {color: black;}#sk-container-id-1 div.sk-toggleable__content {max-height: 0;max-width: 0;overflow: hidden;text-align: left;background-color: #f0f8ff;}#sk-container-id-1 div.sk-toggleable__content pre {margin: 0.2em;color: black;border-radius: 0.25em;background-color: #f0f8ff;}#sk-container-id-1 input.sk-toggleable__control:checked~div.sk-toggleable__content {max-height: 200px;max-width: 100%;overflow: auto;}#sk-container-id-1 input.sk-toggleable__control:checked~label.sk-toggleable__label-arrow:before {content: \"▾\";}#sk-container-id-1 div.sk-estimator input.sk-toggleable__control:checked~label.sk-toggleable__label {background-color: #d4ebff;}#sk-container-id-1 div.sk-label input.sk-toggleable__control:checked~label.sk-toggleable__label {background-color: #d4ebff;}#sk-container-id-1 input.sk-hidden--visually {border: 0;clip: rect(1px 1px 1px 1px);clip: rect(1px, 1px, 1px, 1px);height: 1px;margin: -1px;overflow: hidden;padding: 0;position: absolute;width: 1px;}#sk-container-id-1 div.sk-estimator {font-family: monospace;background-color: #f0f8ff;border: 1px dotted black;border-radius: 0.25em;box-sizing: border-box;margin-bottom: 0.5em;}#sk-container-id-1 div.sk-estimator:hover {background-color: #d4ebff;}#sk-container-id-1 div.sk-parallel-item::after {content: \"\";width: 100%;border-bottom: 1px solid gray;flex-grow: 1;}#sk-container-id-1 div.sk-label:hover label.sk-toggleable__label {background-color: #d4ebff;}#sk-container-id-1 div.sk-serial::before {content: \"\";position: absolute;border-left: 1px solid gray;box-sizing: border-box;top: 0;bottom: 0;left: 50%;z-index: 0;}#sk-container-id-1 div.sk-serial {display: flex;flex-direction: column;align-items: center;background-color: white;padding-right: 0.2em;padding-left: 0.2em;position: relative;}#sk-container-id-1 div.sk-item {position: relative;z-index: 1;}#sk-container-id-1 div.sk-parallel {display: flex;align-items: stretch;justify-content: center;background-color: white;position: relative;}#sk-container-id-1 div.sk-item::before, #sk-container-id-1 div.sk-parallel-item::before {content: \"\";position: absolute;border-left: 1px solid gray;box-sizing: border-box;top: 0;bottom: 0;left: 50%;z-index: -1;}#sk-container-id-1 div.sk-parallel-item {display: flex;flex-direction: column;z-index: 1;position: relative;background-color: white;}#sk-container-id-1 div.sk-parallel-item:first-child::after {align-self: flex-end;width: 50%;}#sk-container-id-1 div.sk-parallel-item:last-child::after {align-self: flex-start;width: 50%;}#sk-container-id-1 div.sk-parallel-item:only-child::after {width: 0;}#sk-container-id-1 div.sk-dashed-wrapped {border: 1px dashed gray;margin: 0 0.4em 0.5em 0.4em;box-sizing: border-box;padding-bottom: 0.4em;background-color: white;}#sk-container-id-1 div.sk-label label {font-family: monospace;font-weight: bold;display: inline-block;line-height: 1.2em;}#sk-container-id-1 div.sk-label-container {text-align: center;}#sk-container-id-1 div.sk-container {/* jupyter's `normalize.less` sets `[hidden] { display: none; }` but bootstrap.min.css set `[hidden] { display: none !important; }` so we also need the `!important` here to be able to override the default hidden behavior on the sphinx rendered scikit-learn.org. See: https://github.com/scikit-learn/scikit-learn/issues/21755 */display: inline-block !important;position: relative;}#sk-container-id-1 div.sk-text-repr-fallback {display: none;}</style><div id=\"sk-container-id-1\" class=\"sk-top-container\"><div class=\"sk-text-repr-fallback\"><pre>Pipeline(steps=[(&#x27;preprocessor&#x27;,\n",
       "                 ColumnTransformer(transformers=[(&#x27;num&#x27;,\n",
       "                                                  SimpleImputer(strategy=&#x27;constant&#x27;),\n",
       "                                                  [&#x27;age&#x27;, &#x27;default&#x27;, &#x27;balance&#x27;,\n",
       "                                                   &#x27;housing&#x27;, &#x27;loan&#x27;, &#x27;day&#x27;,\n",
       "                                                   &#x27;duration&#x27;, &#x27;campaign&#x27;,\n",
       "                                                   &#x27;pdays&#x27;, &#x27;previous&#x27;]),\n",
       "                                                 (&#x27;cat&#x27;,\n",
       "                                                  Pipeline(steps=[(&#x27;imputer&#x27;,\n",
       "                                                                   SimpleImputer(strategy=&#x27;most_frequent&#x27;)),\n",
       "                                                                  (&#x27;encoder&#x27;,\n",
       "                                                                   OneHotEncoder(handle_unknown=&#x27;ignore&#x27;,\n",
       "                                                                                 sparse=False))]),\n",
       "                                                  [&#x27;job&#x27;, &#x27;marital&#x27;,\n",
       "                                                   &#x27;education&#x27;, &#x27;contact&#x27;,\n",
       "                                                   &#x27;month&#x27;, &#x27;poutcome&#x27;])])),\n",
       "                (&#x27;model&#x27;,\n",
       "                 LGBMClassifier(colsample_bytree=0.9, learning_rate=0.01,\n",
       "                                max_depth=16, min_child_samples=2,\n",
       "                                n_estimators=5000, num_leaves=512,\n",
       "                                objective=&#x27;binary&#x27;, random_state=42,\n",
       "                                subsample=0.9))])</pre><b>In a Jupyter environment, please rerun this cell to show the HTML representation or trust the notebook. <br />On GitHub, the HTML representation is unable to render, please try loading this page with nbviewer.org.</b></div><div class=\"sk-container\" hidden><div class=\"sk-item sk-dashed-wrapped\"><div class=\"sk-label-container\"><div class=\"sk-label sk-toggleable\"><input class=\"sk-toggleable__control sk-hidden--visually\" id=\"sk-estimator-id-1\" type=\"checkbox\" ><label for=\"sk-estimator-id-1\" class=\"sk-toggleable__label sk-toggleable__label-arrow\">Pipeline</label><div class=\"sk-toggleable__content\"><pre>Pipeline(steps=[(&#x27;preprocessor&#x27;,\n",
       "                 ColumnTransformer(transformers=[(&#x27;num&#x27;,\n",
       "                                                  SimpleImputer(strategy=&#x27;constant&#x27;),\n",
       "                                                  [&#x27;age&#x27;, &#x27;default&#x27;, &#x27;balance&#x27;,\n",
       "                                                   &#x27;housing&#x27;, &#x27;loan&#x27;, &#x27;day&#x27;,\n",
       "                                                   &#x27;duration&#x27;, &#x27;campaign&#x27;,\n",
       "                                                   &#x27;pdays&#x27;, &#x27;previous&#x27;]),\n",
       "                                                 (&#x27;cat&#x27;,\n",
       "                                                  Pipeline(steps=[(&#x27;imputer&#x27;,\n",
       "                                                                   SimpleImputer(strategy=&#x27;most_frequent&#x27;)),\n",
       "                                                                  (&#x27;encoder&#x27;,\n",
       "                                                                   OneHotEncoder(handle_unknown=&#x27;ignore&#x27;,\n",
       "                                                                                 sparse=False))]),\n",
       "                                                  [&#x27;job&#x27;, &#x27;marital&#x27;,\n",
       "                                                   &#x27;education&#x27;, &#x27;contact&#x27;,\n",
       "                                                   &#x27;month&#x27;, &#x27;poutcome&#x27;])])),\n",
       "                (&#x27;model&#x27;,\n",
       "                 LGBMClassifier(colsample_bytree=0.9, learning_rate=0.01,\n",
       "                                max_depth=16, min_child_samples=2,\n",
       "                                n_estimators=5000, num_leaves=512,\n",
       "                                objective=&#x27;binary&#x27;, random_state=42,\n",
       "                                subsample=0.9))])</pre></div></div></div><div class=\"sk-serial\"><div class=\"sk-item sk-dashed-wrapped\"><div class=\"sk-label-container\"><div class=\"sk-label sk-toggleable\"><input class=\"sk-toggleable__control sk-hidden--visually\" id=\"sk-estimator-id-2\" type=\"checkbox\" ><label for=\"sk-estimator-id-2\" class=\"sk-toggleable__label sk-toggleable__label-arrow\">preprocessor: ColumnTransformer</label><div class=\"sk-toggleable__content\"><pre>ColumnTransformer(transformers=[(&#x27;num&#x27;, SimpleImputer(strategy=&#x27;constant&#x27;),\n",
       "                                 [&#x27;age&#x27;, &#x27;default&#x27;, &#x27;balance&#x27;, &#x27;housing&#x27;,\n",
       "                                  &#x27;loan&#x27;, &#x27;day&#x27;, &#x27;duration&#x27;, &#x27;campaign&#x27;,\n",
       "                                  &#x27;pdays&#x27;, &#x27;previous&#x27;]),\n",
       "                                (&#x27;cat&#x27;,\n",
       "                                 Pipeline(steps=[(&#x27;imputer&#x27;,\n",
       "                                                  SimpleImputer(strategy=&#x27;most_frequent&#x27;)),\n",
       "                                                 (&#x27;encoder&#x27;,\n",
       "                                                  OneHotEncoder(handle_unknown=&#x27;ignore&#x27;,\n",
       "                                                                sparse=False))]),\n",
       "                                 [&#x27;job&#x27;, &#x27;marital&#x27;, &#x27;education&#x27;, &#x27;contact&#x27;,\n",
       "                                  &#x27;month&#x27;, &#x27;poutcome&#x27;])])</pre></div></div></div><div class=\"sk-parallel\"><div class=\"sk-parallel-item\"><div class=\"sk-item\"><div class=\"sk-label-container\"><div class=\"sk-label sk-toggleable\"><input class=\"sk-toggleable__control sk-hidden--visually\" id=\"sk-estimator-id-3\" type=\"checkbox\" ><label for=\"sk-estimator-id-3\" class=\"sk-toggleable__label sk-toggleable__label-arrow\">num</label><div class=\"sk-toggleable__content\"><pre>[&#x27;age&#x27;, &#x27;default&#x27;, &#x27;balance&#x27;, &#x27;housing&#x27;, &#x27;loan&#x27;, &#x27;day&#x27;, &#x27;duration&#x27;, &#x27;campaign&#x27;, &#x27;pdays&#x27;, &#x27;previous&#x27;]</pre></div></div></div><div class=\"sk-serial\"><div class=\"sk-item\"><div class=\"sk-estimator sk-toggleable\"><input class=\"sk-toggleable__control sk-hidden--visually\" id=\"sk-estimator-id-4\" type=\"checkbox\" ><label for=\"sk-estimator-id-4\" class=\"sk-toggleable__label sk-toggleable__label-arrow\">SimpleImputer</label><div class=\"sk-toggleable__content\"><pre>SimpleImputer(strategy=&#x27;constant&#x27;)</pre></div></div></div></div></div></div><div class=\"sk-parallel-item\"><div class=\"sk-item\"><div class=\"sk-label-container\"><div class=\"sk-label sk-toggleable\"><input class=\"sk-toggleable__control sk-hidden--visually\" id=\"sk-estimator-id-5\" type=\"checkbox\" ><label for=\"sk-estimator-id-5\" class=\"sk-toggleable__label sk-toggleable__label-arrow\">cat</label><div class=\"sk-toggleable__content\"><pre>[&#x27;job&#x27;, &#x27;marital&#x27;, &#x27;education&#x27;, &#x27;contact&#x27;, &#x27;month&#x27;, &#x27;poutcome&#x27;]</pre></div></div></div><div class=\"sk-serial\"><div class=\"sk-item\"><div class=\"sk-serial\"><div class=\"sk-item\"><div class=\"sk-estimator sk-toggleable\"><input class=\"sk-toggleable__control sk-hidden--visually\" id=\"sk-estimator-id-6\" type=\"checkbox\" ><label for=\"sk-estimator-id-6\" class=\"sk-toggleable__label sk-toggleable__label-arrow\">SimpleImputer</label><div class=\"sk-toggleable__content\"><pre>SimpleImputer(strategy=&#x27;most_frequent&#x27;)</pre></div></div></div><div class=\"sk-item\"><div class=\"sk-estimator sk-toggleable\"><input class=\"sk-toggleable__control sk-hidden--visually\" id=\"sk-estimator-id-7\" type=\"checkbox\" ><label for=\"sk-estimator-id-7\" class=\"sk-toggleable__label sk-toggleable__label-arrow\">OneHotEncoder</label><div class=\"sk-toggleable__content\"><pre>OneHotEncoder(handle_unknown=&#x27;ignore&#x27;, sparse=False)</pre></div></div></div></div></div></div></div></div></div></div><div class=\"sk-item\"><div class=\"sk-estimator sk-toggleable\"><input class=\"sk-toggleable__control sk-hidden--visually\" id=\"sk-estimator-id-8\" type=\"checkbox\" ><label for=\"sk-estimator-id-8\" class=\"sk-toggleable__label sk-toggleable__label-arrow\">LGBMClassifier</label><div class=\"sk-toggleable__content\"><pre>LGBMClassifier(colsample_bytree=0.9, learning_rate=0.01, max_depth=16,\n",
       "               min_child_samples=2, n_estimators=5000, num_leaves=512,\n",
       "               objective=&#x27;binary&#x27;, random_state=42, subsample=0.9)</pre></div></div></div></div></div></div></div>"
      ],
      "text/plain": [
       "Pipeline(steps=[('preprocessor',\n",
       "                 ColumnTransformer(transformers=[('num',\n",
       "                                                  SimpleImputer(strategy='constant'),\n",
       "                                                  ['age', 'default', 'balance',\n",
       "                                                   'housing', 'loan', 'day',\n",
       "                                                   'duration', 'campaign',\n",
       "                                                   'pdays', 'previous']),\n",
       "                                                 ('cat',\n",
       "                                                  Pipeline(steps=[('imputer',\n",
       "                                                                   SimpleImputer(strategy='most_frequent')),\n",
       "                                                                  ('encoder',\n",
       "                                                                   OneHotEncoder(handle_unknown='ignore',\n",
       "                                                                                 sparse=False))]),\n",
       "                                                  ['job', 'marital',\n",
       "                                                   'education', 'contact',\n",
       "                                                   'month', 'poutcome'])])),\n",
       "                ('model',\n",
       "                 LGBMClassifier(colsample_bytree=0.9, learning_rate=0.01,\n",
       "                                max_depth=16, min_child_samples=2,\n",
       "                                n_estimators=5000, num_leaves=512,\n",
       "                                objective='binary', random_state=42,\n",
       "                                subsample=0.9))])"
      ]
     },
     "execution_count": 15,
     "metadata": {},
     "output_type": "execute_result"
    }
   ],
   "source": [
    "# Preprocessing of training data, fit model\n",
    "my_pipeline.fit(X, y,)"
   ]
  },
  {
   "cell_type": "code",
   "execution_count": 16,
   "id": "2e5aee18",
   "metadata": {
    "execution": {
     "iopub.execute_input": "2025-08-13T13:52:54.705047Z",
     "iopub.status.busy": "2025-08-13T13:52:54.704768Z",
     "iopub.status.idle": "2025-08-13T13:52:54.708923Z",
     "shell.execute_reply": "2025-08-13T13:52:54.707994Z"
    },
    "papermill": {
     "duration": 0.011747,
     "end_time": "2025-08-13T13:52:54.710366",
     "exception": false,
     "start_time": "2025-08-13T13:52:54.698619",
     "status": "completed"
    },
    "tags": []
   },
   "outputs": [],
   "source": [
    "# # ROC AUC score\n",
    "# from sklearn.metrics import roc_auc_score\n",
    "# y_pred_proba = my_pipeline.predict_proba(X_test)[:, 1]\n",
    "# auc_score = roc_auc_score(y_test, y_pred_proba)\n",
    "\n",
    "# print(auc_score)"
   ]
  },
  {
   "cell_type": "code",
   "execution_count": 17,
   "id": "2fc14144",
   "metadata": {
    "execution": {
     "iopub.execute_input": "2025-08-13T13:52:54.722311Z",
     "iopub.status.busy": "2025-08-13T13:52:54.721984Z",
     "iopub.status.idle": "2025-08-13T13:55:27.405988Z",
     "shell.execute_reply": "2025-08-13T13:55:27.404942Z"
    },
    "papermill": {
     "duration": 152.692009,
     "end_time": "2025-08-13T13:55:27.407878",
     "exception": false,
     "start_time": "2025-08-13T13:52:54.715869",
     "status": "completed"
    },
    "tags": []
   },
   "outputs": [],
   "source": [
    "test = test_data.drop(columns=['id'])\n",
    "test_pred_proba= my_pipeline.predict_proba(test)[:, 1]\n",
    "test_pred_proba = np.clip(test_pred_proba, 0, 1)"
   ]
  },
  {
   "cell_type": "code",
   "execution_count": 18,
   "id": "6d30dbc0",
   "metadata": {
    "execution": {
     "iopub.execute_input": "2025-08-13T13:55:27.423053Z",
     "iopub.status.busy": "2025-08-13T13:55:27.422472Z",
     "iopub.status.idle": "2025-08-13T13:55:28.040466Z",
     "shell.execute_reply": "2025-08-13T13:55:28.039308Z"
    },
    "papermill": {
     "duration": 0.626803,
     "end_time": "2025-08-13T13:55:28.042244",
     "exception": false,
     "start_time": "2025-08-13T13:55:27.415441",
     "status": "completed"
    },
    "tags": []
   },
   "outputs": [],
   "source": [
    "output = pd.DataFrame({\n",
    "    'id': test_data['id'],\n",
    "    'y': test_pred_proba\n",
    "})\n",
    "output.to_csv('submission.csv', index=False)"
   ]
  }
 ],
 "metadata": {
  "kaggle": {
   "accelerator": "none",
   "dataSources": [
    {
     "databundleVersionId": 12937777,
     "sourceId": 91719,
     "sourceType": "competition"
    }
   ],
   "dockerImageVersionId": 31089,
   "isGpuEnabled": false,
   "isInternetEnabled": true,
   "language": "python",
   "sourceType": "notebook"
  },
  "kernelspec": {
   "display_name": "Python 3",
   "language": "python",
   "name": "python3"
  },
  "language_info": {
   "codemirror_mode": {
    "name": "ipython",
    "version": 3
   },
   "file_extension": ".py",
   "mimetype": "text/x-python",
   "name": "python",
   "nbconvert_exporter": "python",
   "pygments_lexer": "ipython3",
   "version": "3.11.6"
  },
  "papermill": {
   "default_parameters": {},
   "duration": 490.399858,
   "end_time": "2025-08-13T13:55:29.169146",
   "environment_variables": {},
   "exception": null,
   "input_path": "__notebook__.ipynb",
   "output_path": "__notebook__.ipynb",
   "parameters": {},
   "start_time": "2025-08-13T13:47:18.769288",
   "version": "2.6.0"
  }
 },
 "nbformat": 4,
 "nbformat_minor": 5
}
